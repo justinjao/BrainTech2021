{
 "cells": [
  {
   "cell_type": "markdown",
   "id": "young-australia",
   "metadata": {},
   "source": [
    "# Machine Learning Model for Spotify Playlist Prediction"
   ]
  },
  {
   "cell_type": "markdown",
   "id": "ordered-contract",
   "metadata": {},
   "source": [
    "### Import Libraries"
   ]
  },
  {
   "cell_type": "code",
   "execution_count": 364,
   "id": "broke-trading",
   "metadata": {},
   "outputs": [],
   "source": [
    "import pandas as pd\n",
    "import numpy as np\n",
    "import seaborn as sns\n",
    "\n",
    "from sklearn.model_selection import train_test_split\n",
    "from sklearn.preprocessing import StandardScaler\n",
    "from sklearn.compose import ColumnTransformer\n",
    "from sklearn.neighbors import KNeighborsClassifier\n",
    "from sklearn.metrics import classification_report, confusion_matrix, accuracy_score\n",
    "from sklearn.model_selection import GridSearchCV\n",
    "from sklearn.ensemble import RandomForestClassifier\n",
    "\n",
    "import spotipy\n",
    "import os\n",
    "from spotipy.oauth2 import SpotifyOAuth\n",
    "import pandas as pd"
   ]
  },
  {
   "cell_type": "markdown",
   "id": "hindu-story",
   "metadata": {},
   "source": [
    "# Build the dataset we need\n",
    "\n",
    "To build our dataset, we need a tagged dataset of songs. The tags are aggragated into a \"score\" to serve as a label. To get features for these songs, we need to search for the songs using the spotify api and build a full dataset with features and labels.\n",
    "\n",
    "The features we are interested to find on spotify are as follows (obtained from the Spotify Webpage):\n",
    "\n",
    "**Acousticness**: A confidence measure from 0.0 to 1.0 of whether the track is acoustic. 1.0 represents high confidence the track is acoustic.\n",
    "\n",
    "\n",
    "**Danceability**: Danceability describes how suitable a track is for dancing based on a combination of musical elements including tempo, rhythm stability, beat strength, and overall regularity. A value of 0.0 is least danceable and 1.0 is most danceable.\n",
    "\n",
    "\n",
    "**Energy**: Energy is a measure from 0.0 to 1.0 and represents a perceptual measure of intensity and activity. Typically, energetic tracks feel fast, loud, and noisy. For example, death metal has high energy, while a Bach prelude scores low on the scale. Perceptual features contributing to this attribute include dynamic range, perceived loudness, timbre, onset rate, and general entropy.\n",
    "\n",
    "\n",
    "**Instrumentalness**: Predicts whether a track contains no vocals. “Ooh” and “aah” sounds are treated as instrumental in this context. Rap or spoken word tracks are clearly “vocal”. The closer the instrumentalness value is to 1.0, the greater likelihood the track contains no vocal content. Values above 0.5 are intended to represent instrumental tracks, but confidence is higher as the value approaches 1.0.\n",
    "\n",
    "\n",
    "**Liveness**: Detects the presence of an audience in the recording. Higher liveness values represent an increased probability that the track was performed live. A value above 0.8 provides a strong likelihood that the track is live.\n",
    "Loudness: the overall loudness of a track in decibels (dB). Loudness values are averaged across the entire track and are useful for comparing the relative loudness of tracks. Loudness is the quality of a sound that is the primary psychological correlate of physical strength (amplitude). Values typically range between -60 and 0 db.\n",
    "\n",
    "\n",
    "**Speechiness**: Speechiness detects the presence of spoken words in a track. The more exclusively speech-like the recording (e.g. talk show, audiobook, poetry), the closer to 1.0 the attribute value. Values above 0.66 describe tracks that are probably made entirely of spoken words. Values between 0.33 and 0.66 describe tracks that may contain both music and speech, either in sections or layered, including such cases as rap music. Values below 0.33 most likely represent music and other non-speech-like tracks.\n",
    "\n",
    "\n",
    "**Valence**: A measure from 0.0 to 1.0 describing the musical positiveness conveyed by a track. Tracks with high valence sound more positive (e.g. happy, cheerful, euphoric), while tracks with low valence sound more negative (e.g. sad, depressed, angry).\n",
    "\n",
    "\n",
    "**Tempo**: The overall estimated tempo of a track in beats per minute (BPM). In musical terminology, the tempo is the speed or pace of a given piece and derives directly from the average beat duration."
   ]
  },
  {
   "cell_type": "code",
   "execution_count": 321,
   "id": "strange-birthday",
   "metadata": {},
   "outputs": [],
   "source": [
    "# Authentication with Spotify\n",
    "client_id = # Put your spotify_id here\n",
    "client_secret = # Put your spotify secret here\n",
    "client_url = # Put your spotify url here.\n",
    "\n",
    "sp = spotipy.Spotify(\n",
    "        auth_manager=SpotifyOAuth(\n",
    "            scope=\"playlist-modify-private\",\n",
    "            redirect_uri=client_url,\n",
    "            client_id=client_id,\n",
    "            client_secret=client_secret,\n",
    "            show_dialog=True,\n",
    "            cache_path=\"token.txt\"\n",
    "        )\n",
    "    )"
   ]
  },
  {
   "cell_type": "code",
   "execution_count": 322,
   "id": "freelance-nightlife",
   "metadata": {},
   "outputs": [],
   "source": [
    "# dataset obtained from https://gaurav22verma.github.io/IMAC_Dataset.html\n",
    "imac_dataset = pd.read_csv('SongEmotionScore.csv', header=None)\n",
    "imac_dataset.columns = ['track_id', 'track_name', 'artist_name', 'scores']\n",
    "imac_dataset['scores'] = imac_dataset['scores'].str.split(\"_\")\n",
    "imac_dataset[['pos_score', 'neu_score', 'neg_score']] = pd.DataFrame(imac_dataset['scores'].to_list(), index=imac_dataset.index)\n",
    "imac_dataset = imac_dataset.drop('scores', axis=1)"
   ]
  },
  {
   "cell_type": "code",
   "execution_count": 323,
   "id": "cosmetic-screw",
   "metadata": {},
   "outputs": [],
   "source": [
    "def find_track_id(t_name, a_name):\n",
    "    track = sp.search(q=f\"track:{t_name} artist:{a_name}\", type=\"track\")\n",
    "    if len(track['tracks']['items']) == 0:\n",
    "        return None\n",
    "    else:\n",
    "        track_id = track['tracks']['items'][0]['id']\n",
    "        return track_id"
   ]
  },
  {
   "cell_type": "code",
   "execution_count": 324,
   "id": "seven-novelty",
   "metadata": {},
   "outputs": [],
   "source": [
    "imac_dataset['id'] = None\n",
    "for index, row in imac_dataset.iterrows():\n",
    "    imac_dataset.iloc[index, 6] = find_track_id(row['track_name'], row['artist_name'])"
   ]
  },
  {
   "cell_type": "code",
   "execution_count": 325,
   "id": "accomplished-municipality",
   "metadata": {},
   "outputs": [],
   "source": [
    "# insignificant amount of null values so they were removed\n",
    "imac_dataset_clean = imac_dataset.loc[~imac_dataset['id'].isnull()]"
   ]
  },
  {
   "cell_type": "code",
   "execution_count": 326,
   "id": "passing-freight",
   "metadata": {},
   "outputs": [],
   "source": [
    "features_data = []\n",
    "for index, row in imac_dataset_clean.iterrows():\n",
    "    features = sp.audio_features(row['id'])[0]\n",
    "    features_data = features_data+[features]\n",
    "    \n",
    "new_fd = [data for data in features_data if data is not None]\n",
    "second_half = pd.DataFrame(new_fd)\n",
    "final_dataset = imac_dataset_clean.merge(second_half, how='inner', on='id')\n",
    "final_final_dataset = final_dataset.drop_duplicates(subset=['id','track_name'])"
   ]
  },
  {
   "cell_type": "code",
   "execution_count": 328,
   "id": "aware-obligation",
   "metadata": {},
   "outputs": [],
   "source": [
    "# music_dataset is our complete dataset, ready to be used in our machine learning model\n",
    "music_dataset = final_final_dataset"
   ]
  },
  {
   "cell_type": "code",
   "execution_count": 329,
   "id": "particular-garden",
   "metadata": {},
   "outputs": [
    {
     "data": {
      "text/html": [
       "<div>\n",
       "<style scoped>\n",
       "    .dataframe tbody tr th:only-of-type {\n",
       "        vertical-align: middle;\n",
       "    }\n",
       "\n",
       "    .dataframe tbody tr th {\n",
       "        vertical-align: top;\n",
       "    }\n",
       "\n",
       "    .dataframe thead th {\n",
       "        text-align: right;\n",
       "    }\n",
       "</style>\n",
       "<table border=\"1\" class=\"dataframe\">\n",
       "  <thead>\n",
       "    <tr style=\"text-align: right;\">\n",
       "      <th></th>\n",
       "      <th>track_id</th>\n",
       "      <th>track_name</th>\n",
       "      <th>artist_name</th>\n",
       "      <th>pos_score</th>\n",
       "      <th>neu_score</th>\n",
       "      <th>neg_score</th>\n",
       "      <th>id</th>\n",
       "      <th>danceability</th>\n",
       "      <th>energy</th>\n",
       "      <th>key</th>\n",
       "      <th>...</th>\n",
       "      <th>instrumentalness</th>\n",
       "      <th>liveness</th>\n",
       "      <th>valence</th>\n",
       "      <th>tempo</th>\n",
       "      <th>type</th>\n",
       "      <th>uri</th>\n",
       "      <th>track_href</th>\n",
       "      <th>analysis_url</th>\n",
       "      <th>duration_ms</th>\n",
       "      <th>time_signature</th>\n",
       "    </tr>\n",
       "  </thead>\n",
       "  <tbody>\n",
       "    <tr>\n",
       "      <th>0</th>\n",
       "      <td>TRAAAJN128F428E437</td>\n",
       "      <td>Welcome To The Pleasuredome</td>\n",
       "      <td>Frankie Goes To Hollywood</td>\n",
       "      <td>1</td>\n",
       "      <td>0</td>\n",
       "      <td>0</td>\n",
       "      <td>6PF0WYSCH6OhGKHRHOQSxG</td>\n",
       "      <td>0.665</td>\n",
       "      <td>0.462</td>\n",
       "      <td>11</td>\n",
       "      <td>...</td>\n",
       "      <td>0.015700</td>\n",
       "      <td>0.6490</td>\n",
       "      <td>0.518</td>\n",
       "      <td>113.205</td>\n",
       "      <td>audio_features</td>\n",
       "      <td>spotify:track:6PF0WYSCH6OhGKHRHOQSxG</td>\n",
       "      <td>https://api.spotify.com/v1/tracks/6PF0WYSCH6Oh...</td>\n",
       "      <td>https://api.spotify.com/v1/audio-analysis/6PF0...</td>\n",
       "      <td>820907</td>\n",
       "      <td>4</td>\n",
       "    </tr>\n",
       "    <tr>\n",
       "      <th>1</th>\n",
       "      <td>TRAAAJO12903CAAC69</td>\n",
       "      <td>Stranger in Paradise</td>\n",
       "      <td>Tony Bennett</td>\n",
       "      <td>0</td>\n",
       "      <td>1</td>\n",
       "      <td>0</td>\n",
       "      <td>1HUc5mDTIx8Ul2cxSiAkcj</td>\n",
       "      <td>0.283</td>\n",
       "      <td>0.326</td>\n",
       "      <td>5</td>\n",
       "      <td>...</td>\n",
       "      <td>0.000009</td>\n",
       "      <td>0.2190</td>\n",
       "      <td>0.108</td>\n",
       "      <td>79.176</td>\n",
       "      <td>audio_features</td>\n",
       "      <td>spotify:track:1HUc5mDTIx8Ul2cxSiAkcj</td>\n",
       "      <td>https://api.spotify.com/v1/tracks/1HUc5mDTIx8U...</td>\n",
       "      <td>https://api.spotify.com/v1/audio-analysis/1HUc...</td>\n",
       "      <td>300333</td>\n",
       "      <td>4</td>\n",
       "    </tr>\n",
       "    <tr>\n",
       "      <th>5</th>\n",
       "      <td>TRAAAZF12903CCCF6B</td>\n",
       "      <td>Break My Stride</td>\n",
       "      <td>Matthew Wilder</td>\n",
       "      <td>2</td>\n",
       "      <td>0</td>\n",
       "      <td>0</td>\n",
       "      <td>1mCsF9Tw4AkIZOjvZbZZdT</td>\n",
       "      <td>0.917</td>\n",
       "      <td>0.588</td>\n",
       "      <td>10</td>\n",
       "      <td>...</td>\n",
       "      <td>0.000000</td>\n",
       "      <td>0.0914</td>\n",
       "      <td>0.828</td>\n",
       "      <td>110.077</td>\n",
       "      <td>audio_features</td>\n",
       "      <td>spotify:track:1mCsF9Tw4AkIZOjvZbZZdT</td>\n",
       "      <td>https://api.spotify.com/v1/tracks/1mCsF9Tw4AkI...</td>\n",
       "      <td>https://api.spotify.com/v1/audio-analysis/1mCs...</td>\n",
       "      <td>184480</td>\n",
       "      <td>4</td>\n",
       "    </tr>\n",
       "    <tr>\n",
       "      <th>6</th>\n",
       "      <td>TRAAAGR128F425B14B</td>\n",
       "      <td>Into The Nightlife</td>\n",
       "      <td>Cyndi Lauper</td>\n",
       "      <td>1</td>\n",
       "      <td>0</td>\n",
       "      <td>0</td>\n",
       "      <td>4wDezvrA2mv0JTSHkLwOTW</td>\n",
       "      <td>0.636</td>\n",
       "      <td>0.540</td>\n",
       "      <td>9</td>\n",
       "      <td>...</td>\n",
       "      <td>0.000300</td>\n",
       "      <td>0.2030</td>\n",
       "      <td>0.674</td>\n",
       "      <td>124.002</td>\n",
       "      <td>audio_features</td>\n",
       "      <td>spotify:track:4wDezvrA2mv0JTSHkLwOTW</td>\n",
       "      <td>https://api.spotify.com/v1/tracks/4wDezvrA2mv0...</td>\n",
       "      <td>https://api.spotify.com/v1/audio-analysis/4wDe...</td>\n",
       "      <td>240640</td>\n",
       "      <td>4</td>\n",
       "    </tr>\n",
       "    <tr>\n",
       "      <th>7</th>\n",
       "      <td>TRAAAED128E0783FAB</td>\n",
       "      <td>It's About Time</td>\n",
       "      <td>Jamie Cullum</td>\n",
       "      <td>0</td>\n",
       "      <td>2</td>\n",
       "      <td>0</td>\n",
       "      <td>79AtmE4M8aPPYt5v03atAp</td>\n",
       "      <td>0.565</td>\n",
       "      <td>0.506</td>\n",
       "      <td>9</td>\n",
       "      <td>...</td>\n",
       "      <td>0.000069</td>\n",
       "      <td>0.1290</td>\n",
       "      <td>0.476</td>\n",
       "      <td>152.445</td>\n",
       "      <td>audio_features</td>\n",
       "      <td>spotify:track:79AtmE4M8aPPYt5v03atAp</td>\n",
       "      <td>https://api.spotify.com/v1/tracks/79AtmE4M8aPP...</td>\n",
       "      <td>https://api.spotify.com/v1/audio-analysis/79At...</td>\n",
       "      <td>247000</td>\n",
       "      <td>4</td>\n",
       "    </tr>\n",
       "  </tbody>\n",
       "</table>\n",
       "<p>5 rows × 24 columns</p>\n",
       "</div>"
      ],
      "text/plain": [
       "             track_id                   track_name                artist_name  \\\n",
       "0  TRAAAJN128F428E437  Welcome To The Pleasuredome  Frankie Goes To Hollywood   \n",
       "1  TRAAAJO12903CAAC69         Stranger in Paradise               Tony Bennett   \n",
       "5  TRAAAZF12903CCCF6B              Break My Stride             Matthew Wilder   \n",
       "6  TRAAAGR128F425B14B           Into The Nightlife               Cyndi Lauper   \n",
       "7  TRAAAED128E0783FAB              It's About Time               Jamie Cullum   \n",
       "\n",
       "  pos_score neu_score neg_score                      id  danceability  energy  \\\n",
       "0         1         0         0  6PF0WYSCH6OhGKHRHOQSxG         0.665   0.462   \n",
       "1         0         1         0  1HUc5mDTIx8Ul2cxSiAkcj         0.283   0.326   \n",
       "5         2         0         0  1mCsF9Tw4AkIZOjvZbZZdT         0.917   0.588   \n",
       "6         1         0         0  4wDezvrA2mv0JTSHkLwOTW         0.636   0.540   \n",
       "7         0         2         0  79AtmE4M8aPPYt5v03atAp         0.565   0.506   \n",
       "\n",
       "   key  ...  instrumentalness  liveness  valence    tempo            type  \\\n",
       "0   11  ...          0.015700    0.6490    0.518  113.205  audio_features   \n",
       "1    5  ...          0.000009    0.2190    0.108   79.176  audio_features   \n",
       "5   10  ...          0.000000    0.0914    0.828  110.077  audio_features   \n",
       "6    9  ...          0.000300    0.2030    0.674  124.002  audio_features   \n",
       "7    9  ...          0.000069    0.1290    0.476  152.445  audio_features   \n",
       "\n",
       "                                    uri  \\\n",
       "0  spotify:track:6PF0WYSCH6OhGKHRHOQSxG   \n",
       "1  spotify:track:1HUc5mDTIx8Ul2cxSiAkcj   \n",
       "5  spotify:track:1mCsF9Tw4AkIZOjvZbZZdT   \n",
       "6  spotify:track:4wDezvrA2mv0JTSHkLwOTW   \n",
       "7  spotify:track:79AtmE4M8aPPYt5v03atAp   \n",
       "\n",
       "                                          track_href  \\\n",
       "0  https://api.spotify.com/v1/tracks/6PF0WYSCH6Oh...   \n",
       "1  https://api.spotify.com/v1/tracks/1HUc5mDTIx8U...   \n",
       "5  https://api.spotify.com/v1/tracks/1mCsF9Tw4AkI...   \n",
       "6  https://api.spotify.com/v1/tracks/4wDezvrA2mv0...   \n",
       "7  https://api.spotify.com/v1/tracks/79AtmE4M8aPP...   \n",
       "\n",
       "                                        analysis_url duration_ms  \\\n",
       "0  https://api.spotify.com/v1/audio-analysis/6PF0...      820907   \n",
       "1  https://api.spotify.com/v1/audio-analysis/1HUc...      300333   \n",
       "5  https://api.spotify.com/v1/audio-analysis/1mCs...      184480   \n",
       "6  https://api.spotify.com/v1/audio-analysis/4wDe...      240640   \n",
       "7  https://api.spotify.com/v1/audio-analysis/79At...      247000   \n",
       "\n",
       "  time_signature  \n",
       "0              4  \n",
       "1              4  \n",
       "5              4  \n",
       "6              4  \n",
       "7              4  \n",
       "\n",
       "[5 rows x 24 columns]"
      ]
     },
     "execution_count": 329,
     "metadata": {},
     "output_type": "execute_result"
    }
   ],
   "source": [
    "music_dataset.head()"
   ]
  },
  {
   "cell_type": "code",
   "execution_count": 330,
   "id": "major-individual",
   "metadata": {},
   "outputs": [],
   "source": [
    "# choose only numerical features of model\n",
    "numerical_features = ['danceability', \n",
    "                      'energy', \n",
    "                      'key', \n",
    "                      'loudness', \n",
    "                      'mode', \n",
    "                      'speechiness', \n",
    "                      'acousticness', \n",
    "                      'instrumentalness', \n",
    "                      'liveness', \n",
    "                      'valence', \n",
    "                      'tempo',\n",
    "                      'time_signature'\n",
    "                     ]"
   ]
  },
  {
   "cell_type": "markdown",
   "id": "christian-messaging",
   "metadata": {},
   "source": [
    "# Split into test-train data"
   ]
  },
  {
   "cell_type": "code",
   "execution_count": 331,
   "id": "reported-bangladesh",
   "metadata": {},
   "outputs": [],
   "source": [
    "df_train, df_test = train_test_split(music_dataset, random_state=42, test_size=0.25)"
   ]
  },
  {
   "cell_type": "code",
   "execution_count": 332,
   "id": "sexual-rocket",
   "metadata": {},
   "outputs": [],
   "source": [
    "# we need to create different y arrays for each target (Pos, Neu, Neg), we will train models for the 3 separately\n",
    "X_train = df_train[numerical_features]\n",
    "y_train_pos = df_train['pos_score']\n",
    "y_train_neu = df_train['neu_score']\n",
    "y_train_neg = df_train['neg_score']\n",
    "\n",
    "X_test = df_test[numerical_features]\n",
    "y_test_pos = df_test['pos_score']\n",
    "y_test_neu = df_test['neu_score']\n",
    "y_test_neg = df_test['neg_score']"
   ]
  },
  {
   "cell_type": "code",
   "execution_count": 333,
   "id": "fifth-gravity",
   "metadata": {},
   "outputs": [],
   "source": [
    "# select features that need to be normalized\n",
    "features_to_be_scaled = ['tempo', 'time_signature']"
   ]
  },
  {
   "cell_type": "code",
   "execution_count": 334,
   "id": "satisfactory-anatomy",
   "metadata": {},
   "outputs": [],
   "source": [
    "# to normalize some columns\n",
    "ct = ColumnTransformer(\n",
    "    [\n",
    "        ('scale', StandardScaler(), features_to_be_scaled)\n",
    "    ]\n",
    ")\n",
    "features_scaled = ct.fit_transform(X_train)"
   ]
  },
  {
   "cell_type": "code",
   "execution_count": 335,
   "id": "alleged-reserve",
   "metadata": {},
   "outputs": [
    {
     "name": "stderr",
     "output_type": "stream",
     "text": [
      "/Applications/anaconda3/envs/mfp_env/lib/python3.7/site-packages/pandas/core/indexing.py:1738: SettingWithCopyWarning: \n",
      "A value is trying to be set on a copy of a slice from a DataFrame.\n",
      "Try using .loc[row_indexer,col_indexer] = value instead\n",
      "\n",
      "See the caveats in the documentation: https://pandas.pydata.org/pandas-docs/stable/user_guide/indexing.html#returning-a-view-versus-a-copy\n",
      "  self._setitem_single_column(loc, value[:, i].tolist(), pi)\n"
     ]
    }
   ],
   "source": [
    "X_train.loc[:, features_to_be_scaled] = features_scaled"
   ]
  },
  {
   "cell_type": "markdown",
   "id": "racial-ottawa",
   "metadata": {},
   "source": [
    "# Perform Training and Choose between models"
   ]
  },
  {
   "cell_type": "markdown",
   "id": "special-print",
   "metadata": {},
   "source": [
    "We trained 3 models (KNN, Random Forest, Neural Net) and performed Grid Search to tune hyperparameters. (Other models are omitted for simplicity)\n",
    "\n",
    "We chose to train 3 Random Forests for each of Positive, Neutral and Negative labels. "
   ]
  },
  {
   "cell_type": "code",
   "execution_count": 336,
   "id": "decreased-import",
   "metadata": {},
   "outputs": [
    {
     "name": "stdout",
     "output_type": "stream",
     "text": [
      "Pos Train Accuracy:  0.8070240295748614\n",
      "Pos Test Accuracy:  0.7017738359201774\n"
     ]
    }
   ],
   "source": [
    "forest = RandomForestClassifier(max_depth=8, min_samples_leaf=2, min_samples_split=10, n_estimators=100)\n",
    "forest.fit(X_train,y_train_pos)\n",
    "\n",
    "y_pred_train_pos_rf = forest.predict(X_train) \n",
    "print(\"Pos Train Accuracy: \", accuracy_score(y_train_pos, y_pred_train_pos_rf))\n",
    "\n",
    "y_pred_test_pos_rf = forest.predict(X_test)\n",
    "print(\"Pos Test Accuracy: \", accuracy_score(y_test_pos, y_pred_test_pos_rf))"
   ]
  },
  {
   "cell_type": "code",
   "execution_count": 337,
   "id": "public-teach",
   "metadata": {},
   "outputs": [
    {
     "name": "stdout",
     "output_type": "stream",
     "text": [
      "Neu Train Accuracy:  0.6147874306839187\n",
      "Neu Test Accuracy:  0.5709534368070953\n"
     ]
    }
   ],
   "source": [
    "forest2 = RandomForestClassifier(max_depth=5, min_samples_leaf=1, min_samples_split=15, n_estimators=300)\n",
    "forest2.fit(X_train,y_train_neu)\n",
    "\n",
    "y_pred_train_neu_rf = forest2.predict(X_train) \n",
    "print(\"Neu Train Accuracy: \", accuracy_score(y_train_neu, y_pred_train_neu_rf))\n",
    "\n",
    "y_pred_test_neu_rf = forest2.predict(X_test)\n",
    "print(\"Neu Test Accuracy: \", accuracy_score(y_test_neu, y_pred_test_neu_rf))"
   ]
  },
  {
   "cell_type": "code",
   "execution_count": 338,
   "id": "elementary-railway",
   "metadata": {},
   "outputs": [
    {
     "name": "stdout",
     "output_type": "stream",
     "text": [
      "Neg Train Accuracy:  0.7038817005545287\n",
      "Neg Test Accuracy:  0.6541019955654102\n"
     ]
    }
   ],
   "source": [
    "forest3 = RandomForestClassifier(max_depth=25, min_samples_leaf=2, min_samples_split=100, n_estimators=100)\n",
    "forest3.fit(X_train,y_train_neg)\n",
    "\n",
    "y_pred_train_neg_rf = forest3.predict(X_train) \n",
    "print(\"Neg Train Accuracy: \", accuracy_score(y_train_neg, y_pred_train_neg_rf))\n",
    "\n",
    "y_pred_test_neg_rf = forest3.predict(X_test)\n",
    "print(\"Neg Test Accuracy: \", accuracy_score(y_test_neg, y_pred_test_neg_rf))"
   ]
  },
  {
   "cell_type": "markdown",
   "id": "forward-skill",
   "metadata": {},
   "source": [
    "# Pull playlists from my spotify"
   ]
  },
  {
   "cell_type": "code",
   "execution_count": 339,
   "id": "confused-geology",
   "metadata": {},
   "outputs": [],
   "source": [
    "playlists = sp.user_playlists(user_id, limit=50)"
   ]
  },
  {
   "cell_type": "code",
   "execution_count": 340,
   "id": "visible-diary",
   "metadata": {},
   "outputs": [],
   "source": [
    "playlist_ids = [playlist['id'] for playlist in playlists['items']]"
   ]
  },
  {
   "cell_type": "code",
   "execution_count": 369,
   "id": "improving-glory",
   "metadata": {},
   "outputs": [],
   "source": [
    "def find_features_for_playlist(playlist_id):\n",
    "    '''\n",
    "    Arguments: spotify playlist_id\n",
    "    \n",
    "    Returns: dataframe with features for a certain play_list\n",
    "    '''\n",
    "    tracks = [track['track']['id'] for track in sp.playlist_tracks(playlist_id)['items']]\n",
    "    features_tracks = []\n",
    "    for id_ in tracks:\n",
    "        features = sp.audio_features(id_)[0]\n",
    "        features_tracks = features_tracks+[features]\n",
    "    playlist_features = pd.DataFrame(features_tracks)\n",
    "    return playlist_features[numerical_features]\n",
    "\n",
    "def find_predictions_for_playlist(df):\n",
    "    '''\n",
    "    Arguments: a dataframe containing features of a playlist\n",
    "    \n",
    "    Returns: dataframe containing predictions for each song for each label\n",
    "    '''\n",
    "    y_pred_test_pos_new = forest.predict(df)\n",
    "    y_pred_test_neu_new = forest2.predict(df)\n",
    "    y_pred_test_neg_new = forest3.predict(df)\n",
    "    results = pd.DataFrame(np.array([y_pred_test_pos_new, y_pred_test_neu_new, y_pred_test_neg_new])).T\n",
    "    results.columns = ['pos_score', 'neu_score', 'neg_score']\n",
    "    return results\n",
    "\n",
    "def plot_graph_1(results):\n",
    "    '''\n",
    "    Arguments: dataframe with predictions for each song for each label\n",
    "    \n",
    "    Returns: barchart to show average scores for each label for a playlist\n",
    "    '''\n",
    "    results_clean = pd.DataFrame(results.stack()).reset_index().rename({'level_0':'track', 'level_1':'type', 0:'score'}, axis=1)\n",
    "    results_clean['score'] = results_clean['score'].astype(int)\n",
    "    return sns.barplot(x='type', y='score', data=results_clean, ci=None, palette='RdYlBu')\n",
    "    \n",
    "def predict_and_plot(playlist_id):\n",
    "    data = find_features_for_playlist(playlist_id)\n",
    "    predictions = find_predictions_for_playlist(data)\n",
    "    return plot_graph_1(predictions)"
   ]
  },
  {
   "cell_type": "markdown",
   "id": "hearing-armstrong",
   "metadata": {},
   "source": [
    "# Trial on sample playlist"
   ]
  },
  {
   "cell_type": "code",
   "execution_count": 370,
   "id": "removed-richards",
   "metadata": {},
   "outputs": [
    {
     "data": {
      "image/png": "[encoded data removed]",
      "text/plain": [
       "<Figure size 432x288 with 1 Axes>"
      ]
     },
     "metadata": {
      "needs_background": "light"
     },
     "output_type": "display_data"
    }
   ],
   "source": [
    "# pop playlist\n",
    "pop_graph = predict_and_plot(playlist_ids[4])\n",
    "pop_graph.figure.savefig('graphs/pop_graph.png')"
   ]
  },
  {
   "cell_type": "code",
   "execution_count": 371,
   "id": "living-vancouver",
   "metadata": {},
   "outputs": [
    {
     "data": {
      "image/png": "[encoded data removed]",
      "text/plain": [
       "<Figure size 432x288 with 1 Axes>"
      ]
     },
     "metadata": {
      "needs_background": "light"
     },
     "output_type": "display_data"
    }
   ],
   "source": [
    "# mood playlist \n",
    "mood_graph = predict_and_plot(playlist_ids[3])\n",
    "mood_graph.figure.savefig('graphs/mood_graph.png')"
   ]
  },
  {
   "cell_type": "code",
   "execution_count": 372,
   "id": "attractive-crazy",
   "metadata": {},
   "outputs": [
    {
     "data": {
      "image/png": "[encoded data removed]",
      "text/plain": [
       "<Figure size 432x288 with 1 Axes>"
      ]
     },
     "metadata": {
      "needs_background": "light"
     },
     "output_type": "display_data"
    }
   ],
   "source": [
    "# slow_paced playlist\n",
    "slow_paced_graph = predict_and_plot(playlist_ids[8])\n",
    "slow_paced_graph.figure.savefig('graphs/slow_paced_graph.png')"
   ]
  }
 ],
 "metadata": {
  "kernelspec": {
   "display_name": "Python 3",
   "language": "python",
   "name": "python3"
  },
  "language_info": {
   "codemirror_mode": {
    "name": "ipython",
    "version": 3
   },
   "file_extension": ".py",
   "mimetype": "text/x-python",
   "name": "python",
   "nbconvert_exporter": "python",
   "pygments_lexer": "ipython3",
   "version": "3.7.10"
  }
 },
 "nbformat": 4,
 "nbformat_minor": 5
}
